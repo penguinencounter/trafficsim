{
 "cells": [
  {
   "cell_type": "code",
   "execution_count": 1,
   "id": "f93a4ad7",
   "metadata": {},
   "outputs": [
    {
     "name": "stdout",
     "output_type": "stream",
     "text": [
      "pygame 2.1.2 (SDL 2.0.18, Python 3.8.8)\n",
      "Hello from the pygame community. https://www.pygame.org/contribute.html\n"
     ]
    }
   ],
   "source": [
    "import pygame\n",
    "from pygame.locals import *\n",
    "import sys\n",
    "import math"
   ]
  },
  {
   "cell_type": "code",
   "execution_count": 2,
   "id": "c135a20a",
   "metadata": {},
   "outputs": [],
   "source": [
    "pygame.init()\n",
    "ground = 0, 140, 100\n",
    "road = 40, 40, 40\n",
    "car_col = 150, 150, 150"
   ]
  },
  {
   "cell_type": "code",
   "execution_count": 3,
   "id": "edebd9d7",
   "metadata": {},
   "outputs": [],
   "source": [
    "cars = []"
   ]
  },
  {
   "cell_type": "code",
   "execution_count": 4,
   "id": "7404bddd",
   "metadata": {},
   "outputs": [],
   "source": [
    "class Car:\n",
    "    def __init__(self, speed=2):\n",
    "        self.x = -50\n",
    "        self.y = 85\n",
    "        self.max_speed = speed\n",
    "        self.speed = self.max_speed\n",
    "    \n",
    "    def proc(self):\n",
    "        return (self.x, self.y, 50, 30)\n",
    "    \n",
    "    def update(self, cars, fps):\n",
    "        self.update_tail_speed(cars)\n",
    "        self.x += self.speed / fps\n",
    "    \n",
    "    def update_tail_speed(self, cars):\n",
    "        \"\"\"\n",
    "        If you're tailing a car, copy their speed.\n",
    "        \"\"\"\n",
    "        lowest_tail_dist = math.inf\n",
    "        lowest_tail_car = None\n",
    "        for car in cars:\n",
    "            if car.x > self.x:\n",
    "                diff = car.x - self.x\n",
    "                if diff < lowest_tail_dist:\n",
    "                    lowest_tail_dist = diff\n",
    "                    lowest_tail_car = car\n",
    "        if lowest_tail_dist < 10:\n",
    "            self.speed = lowest_tail_car.speed\n",
    "        else:\n",
    "            self.speed = self.max_speed"
   ]
  },
  {
   "cell_type": "code",
   "execution_count": 5,
   "id": "465c0718",
   "metadata": {},
   "outputs": [
    {
     "ename": "TypeError",
     "evalue": "update() missing 1 required positional argument: 'fps'",
     "output_type": "error",
     "traceback": [
      "\u001b[1;31m---------------------------------------------------------------------------\u001b[0m",
      "\u001b[1;31mTypeError\u001b[0m                                 Traceback (most recent call last)",
      "\u001b[1;32m<ipython-input-5-281141a64e6f>\u001b[0m in \u001b[0;36m<module>\u001b[1;34m\u001b[0m\n\u001b[0;32m      1\u001b[0m \u001b[0mtest_car\u001b[0m \u001b[1;33m=\u001b[0m \u001b[0mCar\u001b[0m\u001b[1;33m(\u001b[0m\u001b[1;33m)\u001b[0m\u001b[1;33m\u001b[0m\u001b[1;33m\u001b[0m\u001b[0m\n\u001b[0;32m      2\u001b[0m \u001b[1;32mfor\u001b[0m \u001b[0mx\u001b[0m \u001b[1;32min\u001b[0m \u001b[0mrange\u001b[0m\u001b[1;33m(\u001b[0m\u001b[1;36m20\u001b[0m\u001b[1;33m)\u001b[0m\u001b[1;33m:\u001b[0m\u001b[1;33m\u001b[0m\u001b[1;33m\u001b[0m\u001b[0m\n\u001b[1;32m----> 3\u001b[1;33m     \u001b[0mtest_car\u001b[0m\u001b[1;33m.\u001b[0m\u001b[0mupdate\u001b[0m\u001b[1;33m(\u001b[0m\u001b[1;33m[\u001b[0m\u001b[1;33m]\u001b[0m\u001b[1;33m)\u001b[0m\u001b[1;33m\u001b[0m\u001b[1;33m\u001b[0m\u001b[0m\n\u001b[0m\u001b[0;32m      4\u001b[0m     \u001b[0mprint\u001b[0m\u001b[1;33m(\u001b[0m\u001b[1;34mf'{x+1} : {test_car.x}, {test_car.y}'\u001b[0m\u001b[1;33m)\u001b[0m\u001b[1;33m\u001b[0m\u001b[1;33m\u001b[0m\u001b[0m\n",
      "\u001b[1;31mTypeError\u001b[0m: update() missing 1 required positional argument: 'fps'"
     ]
    }
   ],
   "source": [
    "test_car = Car()\n",
    "for x in range(20):\n",
    "    test_car.update([])\n",
    "    print(f'{x+1} : {test_car.x}, {test_car.y}')"
   ]
  },
  {
   "cell_type": "code",
   "execution_count": null,
   "id": "3ecf0b39",
   "metadata": {},
   "outputs": [],
   "source": [
    "def spawn_car(speed):\n",
    "    cars.append(Car(speed))"
   ]
  },
  {
   "cell_type": "code",
   "execution_count": null,
   "id": "accf2bba",
   "metadata": {},
   "outputs": [],
   "source": [
    "def update_all_cars(fps):\n",
    "    for car in cars:\n",
    "        car.update(cars, fps)"
   ]
  },
  {
   "cell_type": "code",
   "execution_count": null,
   "id": "2ace57be",
   "metadata": {},
   "outputs": [],
   "source": [
    "def mainloop(screen):\n",
    "    clock = pygame.time.Clock()\n",
    "    click_last = False\n",
    "    while 1:\n",
    "        clock.tick()\n",
    "        for event in pygame.event.get():\n",
    "            if event.type == pygame.QUIT:\n",
    "                pygame.display.quit()\n",
    "                pygame.quit()\n",
    "                return\n",
    "        screen.fill(ground)\n",
    "        \n",
    "        # Road\n",
    "        screen.fill(road, (0, 80, 500, 40))\n",
    "        \n",
    "        # Cars\n",
    "        for car in cars:\n",
    "            screen.fill(car_col, car.proc())\n",
    "        \n",
    "        update_all_cars(clock.get_fps())\n",
    "        \n",
    "        left = pygame.mouse.get_pressed(3)[0]\n",
    "        if left != click_last:\n",
    "            click_last = left\n",
    "            if left == True:\n",
    "                spawn_car(1)\n",
    "        pygame.display.flip()"
   ]
  },
  {
   "cell_type": "code",
   "execution_count": null,
   "id": "5711cc02",
   "metadata": {},
   "outputs": [],
   "source": [
    "def initialize_screen(screen_size):\n",
    "    return pygame.display.set_mode(screen_size)"
   ]
  },
  {
   "cell_type": "code",
   "execution_count": null,
   "id": "2d12d5e6",
   "metadata": {},
   "outputs": [],
   "source": [
    "def main():\n",
    "    screen_size = width, height = 500, 200\n",
    "    scrn = initialize_screen(screen_size)\n",
    "    mainloop(scrn)"
   ]
  },
  {
   "cell_type": "code",
   "execution_count": null,
   "id": "10969388",
   "metadata": {},
   "outputs": [],
   "source": [
    "main()"
   ]
  },
  {
   "cell_type": "code",
   "execution_count": null,
   "id": "5d7902bf",
   "metadata": {},
   "outputs": [],
   "source": []
  }
 ],
 "metadata": {
  "kernelspec": {
   "display_name": "Python 3",
   "language": "python",
   "name": "python3"
  },
  "language_info": {
   "codemirror_mode": {
    "name": "ipython",
    "version": 3
   },
   "file_extension": ".py",
   "mimetype": "text/x-python",
   "name": "python",
   "nbconvert_exporter": "python",
   "pygments_lexer": "ipython3",
   "version": "3.8.8"
  }
 },
 "nbformat": 4,
 "nbformat_minor": 5
}
