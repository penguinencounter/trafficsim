{
 "cells": [
  {
   "cell_type": "code",
   "execution_count": 1,
   "id": "fdf0b953",
   "metadata": {},
   "outputs": [
    {
     "name": "stdout",
     "output_type": "stream",
     "text": [
      "pygame 2.1.2 (SDL 2.0.18, Python 3.8.8)\n",
      "Hello from the pygame community. https://www.pygame.org/contribute.html\n"
     ]
    }
   ],
   "source": [
    "import pygame\n",
    "from pygame.locals import *\n",
    "import sys\n",
    "import math\n",
    "import time"
   ]
  },
  {
   "cell_type": "code",
   "execution_count": 2,
   "id": "01f1c194",
   "metadata": {},
   "outputs": [],
   "source": [
    "pygame.init()\n",
    "ground = 0, 140, 100\n",
    "road = 40, 40, 40\n",
    "car_col = 150, 150, 150"
   ]
  },
  {
   "cell_type": "code",
   "execution_count": 3,
   "id": "1bcb14b0",
   "metadata": {},
   "outputs": [],
   "source": [
    "cars = []"
   ]
  },
  {
   "cell_type": "code",
   "execution_count": 4,
   "id": "498b0b18",
   "metadata": {},
   "outputs": [],
   "source": [
    "class Car:\n",
    "    def __init__(self, speed=100, accel=1, target=100):\n",
    "        self.x = -50\n",
    "        self.y = 85\n",
    "        self.w = 50\n",
    "        self.max_speed = speed\n",
    "        self.speed = self.max_speed\n",
    "        self.accel = accel\n",
    "        self.target = target\n",
    "    \n",
    "    def proc(self):\n",
    "        if self.x < 0:\n",
    "            self.w = 50 + self.x\n",
    "        else:\n",
    "            self.w = 50\n",
    "        return (self.x, self.y, self.w, 30)\n",
    "    \n",
    "    def update(self, cars, fps):\n",
    "        self.update_tail_speed(cars)\n",
    "        if fps == 0:\n",
    "            return\n",
    "        self.x += self.speed / fps\n",
    "    \n",
    "    def update_tail_speed(self, cars):\n",
    "        \"\"\"\n",
    "        If you're tailing a car, copy their speed.\n",
    "        \"\"\"\n",
    "        lowest_tail_dist = math.inf\n",
    "        lowest_tail_car = None\n",
    "        for car in cars:\n",
    "            if car.x > self.x:\n",
    "                diff = car.x - (self.x + self.w)\n",
    "                if diff < lowest_tail_dist:\n",
    "                    lowest_tail_dist = diff\n",
    "                    lowest_tail_car = car\n",
    "        if lowest_tail_dist < 10:\n",
    "            self.speed = lowest_tail_car.speed\n",
    "        else:\n",
    "            if self.max_speed < self.target:\n",
    "                self.max_speed += self.accel\n",
    "            self.speed = self.max_speed"
   ]
  },
  {
   "cell_type": "code",
   "execution_count": 5,
   "id": "f1c1cdf0",
   "metadata": {},
   "outputs": [],
   "source": [
    "def spawn_car(speed=100, accel=1, target=100):\n",
    "    cars.append(Car(speed, accel, target))"
   ]
  },
  {
   "cell_type": "code",
   "execution_count": 6,
   "id": "2bce26ec",
   "metadata": {},
   "outputs": [],
   "source": [
    "def update_all_cars(fps, screen_edge):\n",
    "    for car in cars:\n",
    "        car.update(cars, fps)\n",
    "    new_cars = []\n",
    "    for car in cars:\n",
    "        if car.x < screen_edge:\n",
    "            new_cars.append(car)\n",
    "    return new_cars"
   ]
  },
  {
   "cell_type": "code",
   "execution_count": 7,
   "id": "e0af350d",
   "metadata": {},
   "outputs": [],
   "source": [
    "def mainloop(screen):\n",
    "    global cars\n",
    "    clock = pygame.time.Clock()\n",
    "    click_last = False\n",
    "    prev_tick = time.time()\n",
    "    next_speed = 100\n",
    "    spawn_time = 1\n",
    "    while 1:\n",
    "        time.sleep(0.01)\n",
    "        for event in pygame.event.get():\n",
    "            if event.type == pygame.QUIT:\n",
    "                pygame.display.quit()\n",
    "                pygame.quit()\n",
    "                return\n",
    "        clock.tick()\n",
    "        screen.fill(ground)\n",
    "        \n",
    "        # Road\n",
    "        screen.fill(road, (0, 80, 750, 40))\n",
    "        \n",
    "        # Cars\n",
    "        for car in cars:\n",
    "            screen.fill(car_col, car.proc())\n",
    "        \n",
    "        cars = update_all_cars(clock.get_fps(), 750)\n",
    "        \n",
    "        tick_time = time.time() - prev_tick\n",
    "        if tick_time >= spawn_time:\n",
    "            prev_tick += tick_time\n",
    "            spawn_car(next_speed, 0.1, next_speed)\n",
    "            next_speed = 175\n",
    "        \n",
    "        left = pygame.mouse.get_pressed(3)[0]\n",
    "        if left != click_last:\n",
    "            click_last = left\n",
    "            if left == True:\n",
    "                next_speed = 100\n",
    "        pygame.display.flip()"
   ]
  },
  {
   "cell_type": "code",
   "execution_count": 8,
   "id": "72bffc88",
   "metadata": {},
   "outputs": [],
   "source": [
    "def initialize_screen(screen_size):\n",
    "    return pygame.display.set_mode(screen_size)"
   ]
  },
  {
   "cell_type": "code",
   "execution_count": 9,
   "id": "cc182d1a",
   "metadata": {},
   "outputs": [],
   "source": [
    "def main():\n",
    "    screen_size = width, height = 750, 200\n",
    "    scrn = initialize_screen(screen_size)\n",
    "    mainloop(scrn)"
   ]
  },
  {
   "cell_type": "code",
   "execution_count": 10,
   "id": "31695c80",
   "metadata": {},
   "outputs": [],
   "source": [
    "main()"
   ]
  }
 ],
 "metadata": {
  "kernelspec": {
   "display_name": "Python 3",
   "language": "python",
   "name": "python3"
  },
  "language_info": {
   "codemirror_mode": {
    "name": "ipython",
    "version": 3
   },
   "file_extension": ".py",
   "mimetype": "text/x-python",
   "name": "python",
   "nbconvert_exporter": "python",
   "pygments_lexer": "ipython3",
   "version": "3.8.8"
  }
 },
 "nbformat": 4,
 "nbformat_minor": 5
}
